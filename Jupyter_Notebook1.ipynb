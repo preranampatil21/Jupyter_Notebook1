{
 "cells": [
  {
   "cell_type": "markdown",
   "id": "0883f6a8-d5b9-4a77-afa6-3ebf28858cab",
   "metadata": {},
   "source": [
    "# My Jupyter Notebook on IBM Watson Studio"
   ]
  },
  {
   "cell_type": "markdown",
   "id": "9c8468f8-1139-47e9-93bb-e935790fdf23",
   "metadata": {},
   "source": [
    "<b> Prerana Patil \n",
    "<br>Student"
   ]
  },
  {
   "cell_type": "markdown",
   "id": "f783a8c2-86d7-4777-a5f4-c65ae4dc3ee3",
   "metadata": {},
   "source": [
    "_Data Science leads us to the future. And I want my place in the future. That is why I am interested in Data Science._"
   ]
  },
  {
   "cell_type": "markdown",
   "id": "fd326acf-fbd0-4ce0-a3c2-2875af67ec02",
   "metadata": {},
   "source": [
    "### We can perform basic operations like sum of two numbers."
   ]
  },
  {
   "cell_type": "code",
   "execution_count": 1,
   "id": "0e3d0944-618a-4a7f-a5bd-e00c8f1213ca",
   "metadata": {},
   "outputs": [
    {
     "data": {
      "text/plain": [
       "22"
      ]
     },
     "execution_count": 1,
     "metadata": {},
     "output_type": "execute_result"
    }
   ],
   "source": [
    "9 + 13"
   ]
  },
  {
   "cell_type": "markdown",
   "id": "ed637650-c95e-46ad-87f6-16e6c5ba23a0",
   "metadata": {},
   "source": [
    " -Main bullet point <br> -sub bullet point <br> 1. Numbered item <br> 1. Numbered item <br> ~~Scratch this~~ <br> > This is a blockquote <br> https://en.wikipedia.org\n"
   ]
  },
  {
   "cell_type": "code",
   "execution_count": null,
   "id": "90dcd2d8-6d6f-4fe1-9bcd-c4af57d75c56",
   "metadata": {},
   "outputs": [],
   "source": []
  }
 ],
 "metadata": {
  "kernelspec": {
   "display_name": "Python",
   "language": "python",
   "name": "conda-env-python-py"
  },
  "language_info": {
   "codemirror_mode": {
    "name": "ipython",
    "version": 3
   },
   "file_extension": ".py",
   "mimetype": "text/x-python",
   "name": "python",
   "nbconvert_exporter": "python",
   "pygments_lexer": "ipython3",
   "version": "3.7.12"
  }
 },
 "nbformat": 4,
 "nbformat_minor": 5
}
